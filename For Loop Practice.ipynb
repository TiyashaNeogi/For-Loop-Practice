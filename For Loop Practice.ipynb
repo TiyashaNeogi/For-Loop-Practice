{
 "cells": [
  {
   "cell_type": "code",
   "execution_count": 89,
   "id": "9476fe32-b6cd-4da2-a4b3-f2d584dacf20",
   "metadata": {},
   "outputs": [],
   "source": [
    "l=[1,2,3,4,5]"
   ]
  },
  {
   "cell_type": "code",
   "execution_count": 90,
   "id": "040d59da-0dec-474c-85c8-4df09915bb5d",
   "metadata": {},
   "outputs": [
    {
     "name": "stdout",
     "output_type": "stream",
     "text": [
      "1 <class 'int'>\n",
      "2 <class 'int'>\n",
      "3 <class 'int'>\n",
      "4 <class 'int'>\n",
      "5 <class 'int'>\n"
     ]
    }
   ],
   "source": [
    "for i in l :\n",
    "    print(i,type(i))"
   ]
  },
  {
   "cell_type": "code",
   "execution_count": 91,
   "id": "2cdef0f5-b89a-4443-8366-3932e2467b43",
   "metadata": {},
   "outputs": [],
   "source": [
    "l1=[\"tiyasha\",\"neogi\",\"alisha\",\"dustu\"]"
   ]
  },
  {
   "cell_type": "code",
   "execution_count": 92,
   "id": "dfcd36b5-9d82-4375-86f2-e91cbc9bc5d8",
   "metadata": {},
   "outputs": [
    {
     "name": "stdout",
     "output_type": "stream",
     "text": [
      "tiyasha <class 'str'>\n",
      "neogi <class 'str'>\n",
      "alisha <class 'str'>\n",
      "dustu <class 'str'>\n"
     ]
    }
   ],
   "source": [
    "for i in l1 :\n",
    "    print(i,type(i))"
   ]
  },
  {
   "cell_type": "code",
   "execution_count": 93,
   "id": "582fc0e1-7cdd-4352-b1d0-6ee73bedc9f8",
   "metadata": {},
   "outputs": [
    {
     "name": "stdout",
     "output_type": "stream",
     "text": [
      "tiyasha\n",
      "neogi\n",
      "alisha\n",
      "dustu\n",
      "If for loop is able to complete itself then only else will execute\n"
     ]
    }
   ],
   "source": [
    "for i in l1 :\n",
    "    print(i)\n",
    "else :\n",
    "    print(\"If for loop is able to complete itself then only else will execute\")"
   ]
  },
  {
   "cell_type": "code",
   "execution_count": 94,
   "id": "099e0471-3a04-4c91-8624-0d070a01e8e8",
   "metadata": {},
   "outputs": [
    {
     "name": "stdout",
     "output_type": "stream",
     "text": [
      "tiyasha\n"
     ]
    }
   ],
   "source": [
    "for i in l1 :\n",
    "    if i == \"neogi\" :\n",
    "        break            # break is in-build key word\n",
    "    print(i)"
   ]
  },
  {
   "cell_type": "code",
   "execution_count": 95,
   "id": "cea30fb1-aae0-4737-8237-2405716c9e6b",
   "metadata": {},
   "outputs": [
    {
     "data": {
      "text/plain": [
       "['tiyasha', 'neogi', 'alisha', 'dustu']"
      ]
     },
     "execution_count": 95,
     "metadata": {},
     "output_type": "execute_result"
    }
   ],
   "source": [
    "l1"
   ]
  },
  {
   "cell_type": "code",
   "execution_count": 96,
   "id": "1b72d101-2c42-4859-a093-b4013ea8b058",
   "metadata": {},
   "outputs": [
    {
     "name": "stdout",
     "output_type": "stream",
     "text": [
      "tiyasha\n"
     ]
    }
   ],
   "source": [
    "for i in l1 :\n",
    "    if i == \"neogi\" :\n",
    "        break            \n",
    "    print(i)\n",
    "else :\n",
    "    print(\"Execute this if for loop is able to complete itself\")"
   ]
  },
  {
   "cell_type": "code",
   "execution_count": 97,
   "id": "44737a2a-f3a1-47a7-b4d9-832ba5b17d5f",
   "metadata": {},
   "outputs": [
    {
     "name": "stdout",
     "output_type": "stream",
     "text": [
      "tiyasha\n",
      "alisha\n",
      "dustu\n"
     ]
    }
   ],
   "source": [
    "for i in l1 :\n",
    "    if i == \"neogi\" :\n",
    "        continue            \n",
    "    print(i)"
   ]
  },
  {
   "cell_type": "code",
   "execution_count": 98,
   "id": "571c85d7-637f-4eb7-a8c4-9fdf8a4db70a",
   "metadata": {},
   "outputs": [
    {
     "name": "stdout",
     "output_type": "stream",
     "text": [
      "tiyasha\n",
      "alisha\n",
      "dustu\n",
      "Execute this if for loop is able to complete itself\n"
     ]
    }
   ],
   "source": [
    "for i in l1 :\n",
    "    if i == \"neogi\" :\n",
    "        continue            \n",
    "    print(i)\n",
    "else :\n",
    "    print(\"Execute this if for loop is able to complete itself\")"
   ]
  },
  {
   "cell_type": "code",
   "execution_count": 99,
   "id": "19f61a8b-e3ba-4e62-8f20-cde26b5224a2",
   "metadata": {},
   "outputs": [
    {
     "data": {
      "text/plain": [
       "range(0, 5)"
      ]
     },
     "execution_count": 99,
     "metadata": {},
     "output_type": "execute_result"
    }
   ],
   "source": [
    "range(5)"
   ]
  },
  {
   "cell_type": "code",
   "execution_count": 100,
   "id": "ba39d0c1-152c-4fda-a672-b6a090290b1f",
   "metadata": {},
   "outputs": [
    {
     "data": {
      "text/plain": [
       "[0, 1, 2, 3, 4]"
      ]
     },
     "execution_count": 100,
     "metadata": {},
     "output_type": "execute_result"
    }
   ],
   "source": [
    "list(range(5))"
   ]
  },
  {
   "cell_type": "code",
   "execution_count": 101,
   "id": "d10d92bd-34ed-4479-aed9-db3204f3eb45",
   "metadata": {},
   "outputs": [
    {
     "data": {
      "text/plain": [
       "[0, 1, 2, 3, 4]"
      ]
     },
     "execution_count": 101,
     "metadata": {},
     "output_type": "execute_result"
    }
   ],
   "source": [
    "list(range(0,5,1))"
   ]
  },
  {
   "cell_type": "code",
   "execution_count": 102,
   "id": "61d8f3ef-d040-481e-83e4-a5209fbfd8a3",
   "metadata": {},
   "outputs": [
    {
     "data": {
      "text/plain": [
       "[0, 2, 4, 6, 8, 10, 12, 14, 16, 18]"
      ]
     },
     "execution_count": 102,
     "metadata": {},
     "output_type": "execute_result"
    }
   ],
   "source": [
    "list(range(0,20,2))"
   ]
  },
  {
   "cell_type": "code",
   "execution_count": 103,
   "id": "3cbd6223-cc4c-4c3a-b869-c8bda7c87cd5",
   "metadata": {},
   "outputs": [
    {
     "data": {
      "text/plain": [
       "[-10, -9, -8, -7, -6, -5, -4, -3, -2, -1]"
      ]
     },
     "execution_count": 103,
     "metadata": {},
     "output_type": "execute_result"
    }
   ],
   "source": [
    "list(range(-10,0))"
   ]
  },
  {
   "cell_type": "code",
   "execution_count": 104,
   "id": "4d18d5e6-3832-4a6d-b0e9-de3a1143ca63",
   "metadata": {},
   "outputs": [
    {
     "data": {
      "text/plain": [
       "['tiyasha', 'neogi', 'alisha', 'dustu']"
      ]
     },
     "execution_count": 104,
     "metadata": {},
     "output_type": "execute_result"
    }
   ],
   "source": [
    "l1"
   ]
  },
  {
   "cell_type": "code",
   "execution_count": 105,
   "id": "1b5a351a-a57f-453d-aa9d-cd580d83c228",
   "metadata": {},
   "outputs": [
    {
     "data": {
      "text/plain": [
       "[0, 1, 2, 3]"
      ]
     },
     "execution_count": 105,
     "metadata": {},
     "output_type": "execute_result"
    }
   ],
   "source": [
    "list(range(len(l1)))"
   ]
  },
  {
   "cell_type": "code",
   "execution_count": 106,
   "id": "dc2ee76e-d63c-4794-b15c-4342bee89c23",
   "metadata": {},
   "outputs": [
    {
     "name": "stdout",
     "output_type": "stream",
     "text": [
      "tiyasha\n",
      "neogi\n",
      "alisha\n",
      "dustu\n"
     ]
    }
   ],
   "source": [
    "for i in range(len(l1)):\n",
    "    print(l1[i])"
   ]
  },
  {
   "cell_type": "markdown",
   "id": "58561e6b-2523-4ff2-97b2-12fb60919329",
   "metadata": {},
   "source": [
    "reverse order using for loop"
   ]
  },
  {
   "cell_type": "code",
   "execution_count": 107,
   "id": "b135e9a6-1ead-4628-a1ef-613c7f37a923",
   "metadata": {},
   "outputs": [
    {
     "data": {
      "text/plain": [
       "4"
      ]
     },
     "execution_count": 107,
     "metadata": {},
     "output_type": "execute_result"
    }
   ],
   "source": [
    "len(l1)"
   ]
  },
  {
   "cell_type": "code",
   "execution_count": 108,
   "id": "3e99e865-d51e-41f4-a372-6bb62506a956",
   "metadata": {},
   "outputs": [
    {
     "ename": "SyntaxError",
     "evalue": "invalid syntax (1085594089.py, line 1)",
     "output_type": "error",
     "traceback": [
      "\u001b[0;36m  Cell \u001b[0;32mIn[108], line 1\u001b[0;36m\u001b[0m\n\u001b[0;31m    list(range(len(l1)-1,,-1))\u001b[0m\n\u001b[0m                         ^\u001b[0m\n\u001b[0;31mSyntaxError\u001b[0m\u001b[0;31m:\u001b[0m invalid syntax\n"
     ]
    }
   ],
   "source": [
    "list(range(len(l1)-1,,-1))"
   ]
  },
  {
   "cell_type": "code",
   "execution_count": 109,
   "id": "b6046f9a-cba9-4078-ad50-5336228b3b24",
   "metadata": {},
   "outputs": [
    {
     "data": {
      "text/plain": [
       "[3, 2, 1]"
      ]
     },
     "execution_count": 109,
     "metadata": {},
     "output_type": "execute_result"
    }
   ],
   "source": [
    "list(range(len(l1)-1,0,-1))"
   ]
  },
  {
   "cell_type": "code",
   "execution_count": 110,
   "id": "2f9193ca-b4a1-4a3a-a8f2-bd83cd7c8e37",
   "metadata": {},
   "outputs": [
    {
     "data": {
      "text/plain": [
       "[3, 2, 1, 0]"
      ]
     },
     "execution_count": 110,
     "metadata": {},
     "output_type": "execute_result"
    }
   ],
   "source": [
    "list(range(len(l1)-1,-1,-1))"
   ]
  },
  {
   "cell_type": "code",
   "execution_count": 111,
   "id": "239db413-0134-49cc-85c9-ec294a9b52aa",
   "metadata": {},
   "outputs": [
    {
     "data": {
      "text/plain": [
       "['tiyasha', 'neogi', 'alisha', 'dustu']"
      ]
     },
     "execution_count": 111,
     "metadata": {},
     "output_type": "execute_result"
    }
   ],
   "source": [
    "l1"
   ]
  },
  {
   "cell_type": "code",
   "execution_count": 112,
   "id": "1f2c79ed-56b0-4c96-bcd1-1bb5dcb53200",
   "metadata": {},
   "outputs": [
    {
     "name": "stdout",
     "output_type": "stream",
     "text": [
      "dustu\n",
      "alisha\n",
      "neogi\n",
      "tiyasha\n"
     ]
    }
   ],
   "source": [
    "for i in range(len(l1)-1,-1,-1):\n",
    "    print(l1[i])"
   ]
  },
  {
   "cell_type": "code",
   "execution_count": 115,
   "id": "697aee1d-ce30-44c1-b3ad-d667a6fa9e15",
   "metadata": {},
   "outputs": [],
   "source": [
    "l2=[23,5,45,56,6,67,67,78,87,8998,9,9,8]"
   ]
  },
  {
   "cell_type": "code",
   "execution_count": 116,
   "id": "d1540855-781a-4b4e-8896-6ecbcd4cd372",
   "metadata": {},
   "outputs": [
    {
     "data": {
      "text/plain": [
       "[0, 2, 4, 6, 8, 10, 12]"
      ]
     },
     "execution_count": 116,
     "metadata": {},
     "output_type": "execute_result"
    }
   ],
   "source": [
    "list(range(0,len(l2),2))"
   ]
  },
  {
   "cell_type": "markdown",
   "id": "0e30a6c7-3c42-4c00-9396-4bdb2146aeb5",
   "metadata": {},
   "source": [
    "even index data"
   ]
  },
  {
   "cell_type": "code",
   "execution_count": 117,
   "id": "ff06d3f6-72e0-4f8f-ae9d-feff86619f73",
   "metadata": {},
   "outputs": [
    {
     "name": "stdout",
     "output_type": "stream",
     "text": [
      "23\n",
      "45\n",
      "6\n",
      "67\n",
      "87\n",
      "9\n",
      "8\n"
     ]
    }
   ],
   "source": [
    "for i in range(0,len(l2),2):\n",
    "    print(l2[i])"
   ]
  },
  {
   "cell_type": "code",
   "execution_count": 118,
   "id": "90838f3e-025e-4763-8175-5ad8ce72b847",
   "metadata": {},
   "outputs": [
    {
     "data": {
      "text/plain": [
       "23"
      ]
     },
     "execution_count": 118,
     "metadata": {},
     "output_type": "execute_result"
    }
   ],
   "source": [
    "l2[0]"
   ]
  },
  {
   "cell_type": "markdown",
   "id": "f5c95272-290d-499a-8a36-1d11c4127d95",
   "metadata": {},
   "source": [
    "sum (1+2+3+4+7+8+98) = 123"
   ]
  },
  {
   "cell_type": "code",
   "execution_count": 122,
   "id": "705f077b-bca2-4d54-bd5e-8334f10954a5",
   "metadata": {},
   "outputs": [],
   "source": [
    "l=[1,2,3,4,7,8,98]"
   ]
  },
  {
   "cell_type": "code",
   "execution_count": 123,
   "id": "f597fd00-1dc8-4aac-8cfd-79b58f632649",
   "metadata": {},
   "outputs": [
    {
     "data": {
      "text/plain": [
       "123"
      ]
     },
     "execution_count": 123,
     "metadata": {},
     "output_type": "execute_result"
    }
   ],
   "source": [
    "sum(l)"
   ]
  },
  {
   "cell_type": "code",
   "execution_count": 124,
   "id": "fbe8a927-ba23-4e92-8a05-44bc4b5c55f2",
   "metadata": {},
   "outputs": [
    {
     "data": {
      "text/plain": [
       "123"
      ]
     },
     "execution_count": 124,
     "metadata": {},
     "output_type": "execute_result"
    }
   ],
   "source": [
    "result = 0\n",
    "for i in l:\n",
    "    result = result+i\n",
    "result"
   ]
  },
  {
   "cell_type": "code",
   "execution_count": 125,
   "id": "71e0d187-ec54-41f2-8f1e-b94e81863a95",
   "metadata": {},
   "outputs": [],
   "source": [
    "t=(1,2,3,4,4,5)"
   ]
  },
  {
   "cell_type": "code",
   "execution_count": 126,
   "id": "5ebb4c6d-94f7-4ef2-9d83-e05c877591bf",
   "metadata": {},
   "outputs": [
    {
     "name": "stdout",
     "output_type": "stream",
     "text": [
      "1\n",
      "2\n",
      "3\n",
      "4\n",
      "4\n",
      "5\n"
     ]
    }
   ],
   "source": [
    "for i in t:\n",
    "    print(i)"
   ]
  },
  {
   "cell_type": "code",
   "execution_count": 127,
   "id": "5cf061c8-1a3d-4486-85ca-f5530785eeb8",
   "metadata": {},
   "outputs": [
    {
     "data": {
      "text/plain": [
       "19"
      ]
     },
     "execution_count": 127,
     "metadata": {},
     "output_type": "execute_result"
    }
   ],
   "source": [
    "result = 0\n",
    "for i in t:\n",
    "    result = result+i\n",
    "result"
   ]
  },
  {
   "cell_type": "code",
   "execution_count": 128,
   "id": "86c0f9c0-e81c-4e8c-bda2-3aa4811d07ca",
   "metadata": {},
   "outputs": [],
   "source": [
    "s={1,2,3,4,5,\"tiyasha\",\"neogi\"}"
   ]
  },
  {
   "cell_type": "code",
   "execution_count": 129,
   "id": "d0b537a8-b3a1-4b98-ad3b-591de7b78bcd",
   "metadata": {},
   "outputs": [
    {
     "name": "stdout",
     "output_type": "stream",
     "text": [
      "1\n",
      "2\n",
      "3\n",
      "4\n",
      "5\n",
      "tiyasha\n",
      "neogi\n"
     ]
    }
   ],
   "source": [
    "for i in s:\n",
    "    print(i)"
   ]
  },
  {
   "cell_type": "code",
   "execution_count": 130,
   "id": "6ba2ef78-8a32-4e0b-8b65-a64404e88e72",
   "metadata": {},
   "outputs": [],
   "source": [
    "s1=\"neogi\""
   ]
  },
  {
   "cell_type": "code",
   "execution_count": 132,
   "id": "1981d4a7-1cc7-4631-a492-951b46c64fef",
   "metadata": {},
   "outputs": [
    {
     "name": "stdout",
     "output_type": "stream",
     "text": [
      "n\n",
      "e\n",
      "o\n",
      "g\n",
      "i\n"
     ]
    }
   ],
   "source": [
    "for i in s1:\n",
    "    print(i)"
   ]
  },
  {
   "cell_type": "code",
   "execution_count": 133,
   "id": "fb2ad818-1ffd-4511-9e04-f8744d44c300",
   "metadata": {},
   "outputs": [],
   "source": [
    "d={\"name\":\"tiyasha\",\"class\":\"data science master\",\n",
    "   \"topic\":[\"python\",\"stats\",\"ML\",\"DL\",\"CV\",\"NLP\",\"resume\",\"inerview\"]}"
   ]
  },
  {
   "cell_type": "code",
   "execution_count": 134,
   "id": "f2684eda-b8f3-4819-a149-7f24154debcb",
   "metadata": {},
   "outputs": [
    {
     "data": {
      "text/plain": [
       "{'name': 'tiyasha',\n",
       " 'class': 'data science master',\n",
       " 'topic': ['python', 'stats', 'ML', 'DL', 'CV', 'NLP', 'resume', 'inerview']}"
      ]
     },
     "execution_count": 134,
     "metadata": {},
     "output_type": "execute_result"
    }
   ],
   "source": [
    "d"
   ]
  },
  {
   "cell_type": "code",
   "execution_count": 135,
   "id": "a9114b7c-c7d8-4357-b1df-461f4c907639",
   "metadata": {},
   "outputs": [
    {
     "data": {
      "text/plain": [
       "'tiyasha'"
      ]
     },
     "execution_count": 135,
     "metadata": {},
     "output_type": "execute_result"
    }
   ],
   "source": [
    "d[\"name\"]"
   ]
  },
  {
   "cell_type": "code",
   "execution_count": 136,
   "id": "752f46e2-ecea-4428-9f4a-11b7659aa1e9",
   "metadata": {},
   "outputs": [
    {
     "data": {
      "text/plain": [
       "dict_keys(['name', 'class', 'topic'])"
      ]
     },
     "execution_count": 136,
     "metadata": {},
     "output_type": "execute_result"
    }
   ],
   "source": [
    "d.keys()"
   ]
  },
  {
   "cell_type": "code",
   "execution_count": 137,
   "id": "aab2917e-3445-47e0-8252-ce9acac8b1f7",
   "metadata": {},
   "outputs": [
    {
     "name": "stdout",
     "output_type": "stream",
     "text": [
      "tiyasha\n",
      "data science master\n",
      "['python', 'stats', 'ML', 'DL', 'CV', 'NLP', 'resume', 'inerview']\n"
     ]
    }
   ],
   "source": [
    "for i in d.keys():\n",
    "    print(d[i])"
   ]
  },
  {
   "cell_type": "code",
   "execution_count": 138,
   "id": "b32ee45b-f880-43d6-a9ea-6153e7e38af0",
   "metadata": {},
   "outputs": [
    {
     "data": {
      "text/plain": [
       "dict_values(['tiyasha', 'data science master', ['python', 'stats', 'ML', 'DL', 'CV', 'NLP', 'resume', 'inerview']])"
      ]
     },
     "execution_count": 138,
     "metadata": {},
     "output_type": "execute_result"
    }
   ],
   "source": [
    "d.values()"
   ]
  },
  {
   "cell_type": "code",
   "execution_count": 140,
   "id": "5d9e2144-9260-4da8-a848-5e13b9f929ba",
   "metadata": {},
   "outputs": [
    {
     "name": "stdout",
     "output_type": "stream",
     "text": [
      "tiyasha\n",
      "data science master\n",
      "['python', 'stats', 'ML', 'DL', 'CV', 'NLP', 'resume', 'inerview']\n"
     ]
    }
   ],
   "source": [
    "for i in d.values():\n",
    "    print(i)"
   ]
  },
  {
   "cell_type": "code",
   "execution_count": 141,
   "id": "a53e619c-638a-468b-ba77-9e62f7bc1f68",
   "metadata": {},
   "outputs": [
    {
     "data": {
      "text/plain": [
       "dict_items([('name', 'tiyasha'), ('class', 'data science master'), ('topic', ['python', 'stats', 'ML', 'DL', 'CV', 'NLP', 'resume', 'inerview'])])"
      ]
     },
     "execution_count": 141,
     "metadata": {},
     "output_type": "execute_result"
    }
   ],
   "source": [
    "d.items()"
   ]
  },
  {
   "cell_type": "code",
   "execution_count": 143,
   "id": "b2dcb5e6-586a-45ce-b32a-ddd1c3332d0f",
   "metadata": {},
   "outputs": [
    {
     "name": "stdout",
     "output_type": "stream",
     "text": [
      "('name', 'tiyasha')\n",
      "('class', 'data science master')\n",
      "('topic', ['python', 'stats', 'ML', 'DL', 'CV', 'NLP', 'resume', 'inerview'])\n"
     ]
    }
   ],
   "source": [
    "for i in d.items():\n",
    "    print(i)"
   ]
  },
  {
   "cell_type": "code",
   "execution_count": null,
   "id": "c9704e8f-415d-46f5-8279-75a2c4195a83",
   "metadata": {},
   "outputs": [],
   "source": []
  }
 ],
 "metadata": {
  "kernelspec": {
   "display_name": "Python 3 (ipykernel)",
   "language": "python",
   "name": "python3"
  },
  "language_info": {
   "codemirror_mode": {
    "name": "ipython",
    "version": 3
   },
   "file_extension": ".py",
   "mimetype": "text/x-python",
   "name": "python",
   "nbconvert_exporter": "python",
   "pygments_lexer": "ipython3",
   "version": "3.10.8"
  }
 },
 "nbformat": 4,
 "nbformat_minor": 5
}
